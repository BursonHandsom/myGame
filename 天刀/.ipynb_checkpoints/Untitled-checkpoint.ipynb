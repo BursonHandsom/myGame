{
 "cells": [
  {
   "cell_type": "code",
   "execution_count": 55,
   "metadata": {},
   "outputs": [],
   "source": [
    "pin7 = {\"cailiao\":\"6品\",\"cailiaoNum\":1, \"gouliang\":\"4品\", \"glNum\":3, \"upj\":10}"
   ]
  },
  {
   "cell_type": "code",
   "execution_count": 56,
   "metadata": {},
   "outputs": [],
   "source": [
    "pin8 = {\"cailiao\":7, \"cailiaoNum\":1,\"gouliang\":5, \"glNum\":3, \"upj\":50}"
   ]
  },
  {
   "cell_type": "code",
   "execution_count": 57,
   "metadata": {},
   "outputs": [],
   "source": [
    "pin9 = {\"cailiao\":8, \"cailiaoNum\":1,\"gouliang\":7, \"glNum\":3, \"upj\":100}"
   ]
  },
  {
   "cell_type": "code",
   "execution_count": 58,
   "metadata": {},
   "outputs": [],
   "source": [
    "a = \"8品*2+9品+500碎金\""
   ]
  },
  {
   "cell_type": "code",
   "execution_count": 59,
   "metadata": {},
   "outputs": [],
   "source": [
    "pin8_sub = {\"cailiao\":pin7, \"cailiaoNum\":1,\"gouliang\":5,\"glNum\":3, \"upj\":50}"
   ]
  },
  {
   "cell_type": "code",
   "execution_count": 60,
   "metadata": {},
   "outputs": [],
   "source": [
    "pin9_sub = {\"cailiao\":pin8_sub, \"cailiaoNum\":1,\"gouliang\":pin7,\"glNum\":3, \"upj\":100}"
   ]
  },
  {
   "cell_type": "code",
   "execution_count": 53,
   "metadata": {},
   "outputs": [],
   "source": [
    "def func(dic):\n",
    "    cailiaoNum = 0\n",
    "    glNum = 0\n",
    "    for k,v in dic.items():\n",
    "        if k == \"cailiao\":\n",
    "            if isinstance(v,dict):\n",
    "                func(v)\n",
    "            print(\"材料：%s * 1\" % v)\n",
    "        if k == \"gouliang\": \n",
    "            if isinstance(v,dict):\n",
    "            pass\n",
    "        if k == \"upj\":\n",
    "            print(\"碎金消耗:%d\" % v)\n",
    "        "
   ]
  },
  {
   "cell_type": "code",
   "execution_count": 54,
   "metadata": {},
   "outputs": [
    {
     "name": "stdout",
     "output_type": "stream",
     "text": [
      "材料：6品 * 1\n",
      "碎金消耗:10\n",
      "材料：{'cailiao': '6品', 'gouliang': '4品', 'glNum': 3, 'upj': 10} * 1\n",
      "碎金消耗:50\n",
      "材料：{'cailiao': {'cailiao': '6品', 'gouliang': '4品', 'glNum': 3, 'upj': 10}, 'gouliang': (5, 3), 'upj': 50} * 1\n",
      "碎金消耗:100\n"
     ]
    }
   ],
   "source": [
    "func(pin9_sub)"
   ]
  },
  {
   "cell_type": "code",
   "execution_count": 28,
   "metadata": {},
   "outputs": [
    {
     "data": {
      "text/plain": [
       "True"
      ]
     },
     "execution_count": 28,
     "metadata": {},
     "output_type": "execute_result"
    }
   ],
   "source": [
    "isinstance(pin9,dict)"
   ]
  },
  {
   "cell_type": "code",
   "execution_count": null,
   "metadata": {},
   "outputs": [],
   "source": []
  }
 ],
 "metadata": {
  "kernelspec": {
   "display_name": "Python 3",
   "language": "python",
   "name": "python3"
  },
  "language_info": {
   "codemirror_mode": {
    "name": "ipython",
    "version": 3
   },
   "file_extension": ".py",
   "mimetype": "text/x-python",
   "name": "python",
   "nbconvert_exporter": "python",
   "pygments_lexer": "ipython3",
   "version": "3.7.0"
  }
 },
 "nbformat": 4,
 "nbformat_minor": 2
}
